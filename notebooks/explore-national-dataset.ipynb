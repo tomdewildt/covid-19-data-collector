{
 "cells": [
  {
   "cell_type": "markdown",
   "metadata": {},
   "source": [
    "# Explore National Dataset\n",
    "\n",
    "This notebook is used to explore the `rivm-covid-19-national.csv` dataset. It contains various graph that visualize the data in the dataset."
   ]
  },
  {
   "cell_type": "code",
   "execution_count": 1,
   "metadata": {
    "scrolled": false
   },
   "outputs": [],
   "source": [
    "import pandas as pd"
   ]
  },
  {
   "cell_type": "markdown",
   "metadata": {},
   "source": [
    "## Load dataset"
   ]
  },
  {
   "cell_type": "code",
   "execution_count": 2,
   "metadata": {
    "scrolled": false
   },
   "outputs": [],
   "source": [
    "df = pd.read_csv(\"../data/processed/rivm-covid-19-national.csv\")"
   ]
  },
  {
   "cell_type": "code",
   "execution_count": 3,
   "metadata": {
    "scrolled": false
   },
   "outputs": [],
   "source": [
    "df[\"PositiefGetest\"] = df[\"PositiefGetest\"].astype(int)\n",
    "df[\"Opgenomen\"] = df[\"Opgenomen\"].astype(int)\n",
    "df[\"Overleden\"] = df[\"Overleden\"].astype(int)\n",
    "df[\"Datum\"] = pd.to_datetime(df[\"Datum\"])"
   ]
  },
  {
   "cell_type": "code",
   "execution_count": 4,
   "metadata": {
    "scrolled": false
   },
   "outputs": [],
   "source": [
    "df[\"PositiefGetestCumulatief\"] = df[\"PositiefGetest\"].cumsum(axis=0)\n",
    "df[\"OpgenomenCumulatief\"] = df[\"Opgenomen\"].cumsum(axis=0)\n",
    "df[\"OverledenCumulatief\"] = df[\"Overleden\"].cumsum(axis=0)"
   ]
  },
  {
   "cell_type": "markdown",
   "metadata": {},
   "source": [
    "## Inspect dataset"
   ]
  },
  {
   "cell_type": "code",
   "execution_count": 5,
   "metadata": {
    "scrolled": false
   },
   "outputs": [
    {
     "name": "stdout",
     "output_type": "stream",
     "text": [
      "<class 'pandas.core.frame.DataFrame'>\n",
      "RangeIndex: 732 entries, 0 to 731\n",
      "Data columns (total 7 columns):\n",
      " #   Column                    Non-Null Count  Dtype         \n",
      "---  ------                    --------------  -----         \n",
      " 0   PositiefGetest            732 non-null    int64         \n",
      " 1   Opgenomen                 732 non-null    int64         \n",
      " 2   Overleden                 732 non-null    int64         \n",
      " 3   Datum                     732 non-null    datetime64[ns]\n",
      " 4   PositiefGetestCumulatief  732 non-null    int64         \n",
      " 5   OpgenomenCumulatief       732 non-null    int64         \n",
      " 6   OverledenCumulatief       732 non-null    int64         \n",
      "dtypes: datetime64[ns](1), int64(6)\n",
      "memory usage: 40.2 KB\n"
     ]
    }
   ],
   "source": [
    "df.info()"
   ]
  },
  {
   "cell_type": "code",
   "execution_count": 6,
   "metadata": {
    "scrolled": false
   },
   "outputs": [
    {
     "data": {
      "text/html": [
       "<div>\n",
       "<style scoped>\n",
       "    .dataframe tbody tr th:only-of-type {\n",
       "        vertical-align: middle;\n",
       "    }\n",
       "\n",
       "    .dataframe tbody tr th {\n",
       "        vertical-align: top;\n",
       "    }\n",
       "\n",
       "    .dataframe thead th {\n",
       "        text-align: right;\n",
       "    }\n",
       "</style>\n",
       "<table border=\"1\" class=\"dataframe\">\n",
       "  <thead>\n",
       "    <tr style=\"text-align: right;\">\n",
       "      <th></th>\n",
       "      <th>PositiefGetest</th>\n",
       "      <th>Opgenomen</th>\n",
       "      <th>Overleden</th>\n",
       "      <th>Datum</th>\n",
       "      <th>PositiefGetestCumulatief</th>\n",
       "      <th>OpgenomenCumulatief</th>\n",
       "      <th>OverledenCumulatief</th>\n",
       "    </tr>\n",
       "  </thead>\n",
       "  <tbody>\n",
       "    <tr>\n",
       "      <th>0</th>\n",
       "      <td>0</td>\n",
       "      <td>1</td>\n",
       "      <td>0</td>\n",
       "      <td>2020-02-27</td>\n",
       "      <td>0</td>\n",
       "      <td>1</td>\n",
       "      <td>0</td>\n",
       "    </tr>\n",
       "    <tr>\n",
       "      <th>1</th>\n",
       "      <td>1</td>\n",
       "      <td>0</td>\n",
       "      <td>0</td>\n",
       "      <td>2020-02-28</td>\n",
       "      <td>1</td>\n",
       "      <td>1</td>\n",
       "      <td>0</td>\n",
       "    </tr>\n",
       "    <tr>\n",
       "      <th>2</th>\n",
       "      <td>1</td>\n",
       "      <td>1</td>\n",
       "      <td>0</td>\n",
       "      <td>2020-02-29</td>\n",
       "      <td>2</td>\n",
       "      <td>2</td>\n",
       "      <td>0</td>\n",
       "    </tr>\n",
       "    <tr>\n",
       "      <th>3</th>\n",
       "      <td>3</td>\n",
       "      <td>0</td>\n",
       "      <td>0</td>\n",
       "      <td>2020-03-01</td>\n",
       "      <td>5</td>\n",
       "      <td>2</td>\n",
       "      <td>0</td>\n",
       "    </tr>\n",
       "    <tr>\n",
       "      <th>4</th>\n",
       "      <td>5</td>\n",
       "      <td>0</td>\n",
       "      <td>0</td>\n",
       "      <td>2020-03-02</td>\n",
       "      <td>10</td>\n",
       "      <td>2</td>\n",
       "      <td>0</td>\n",
       "    </tr>\n",
       "  </tbody>\n",
       "</table>\n",
       "</div>"
      ],
      "text/plain": [
       "   PositiefGetest  Opgenomen  Overleden      Datum  PositiefGetestCumulatief  \\\n",
       "0               0          1          0 2020-02-27                         0   \n",
       "1               1          0          0 2020-02-28                         1   \n",
       "2               1          1          0 2020-02-29                         2   \n",
       "3               3          0          0 2020-03-01                         5   \n",
       "4               5          0          0 2020-03-02                        10   \n",
       "\n",
       "   OpgenomenCumulatief  OverledenCumulatief  \n",
       "0                    1                    0  \n",
       "1                    1                    0  \n",
       "2                    2                    0  \n",
       "3                    2                    0  \n",
       "4                    2                    0  "
      ]
     },
     "execution_count": 6,
     "metadata": {},
     "output_type": "execute_result"
    }
   ],
   "source": [
    "df.head()"
   ]
  },
  {
   "cell_type": "code",
   "execution_count": 7,
   "metadata": {
    "scrolled": false
   },
   "outputs": [
    {
     "data": {
      "text/html": [
       "<div>\n",
       "<style scoped>\n",
       "    .dataframe tbody tr th:only-of-type {\n",
       "        vertical-align: middle;\n",
       "    }\n",
       "\n",
       "    .dataframe tbody tr th {\n",
       "        vertical-align: top;\n",
       "    }\n",
       "\n",
       "    .dataframe thead th {\n",
       "        text-align: right;\n",
       "    }\n",
       "</style>\n",
       "<table border=\"1\" class=\"dataframe\">\n",
       "  <thead>\n",
       "    <tr style=\"text-align: right;\">\n",
       "      <th></th>\n",
       "      <th>PositiefGetest</th>\n",
       "      <th>Opgenomen</th>\n",
       "      <th>Overleden</th>\n",
       "      <th>Datum</th>\n",
       "      <th>PositiefGetestCumulatief</th>\n",
       "      <th>OpgenomenCumulatief</th>\n",
       "      <th>OverledenCumulatief</th>\n",
       "    </tr>\n",
       "  </thead>\n",
       "  <tbody>\n",
       "    <tr>\n",
       "      <th>727</th>\n",
       "      <td>41065</td>\n",
       "      <td>31</td>\n",
       "      <td>11</td>\n",
       "      <td>2022-02-23</td>\n",
       "      <td>6132281</td>\n",
       "      <td>39342</td>\n",
       "      <td>21527</td>\n",
       "    </tr>\n",
       "    <tr>\n",
       "      <th>728</th>\n",
       "      <td>40705</td>\n",
       "      <td>32</td>\n",
       "      <td>13</td>\n",
       "      <td>2022-02-24</td>\n",
       "      <td>6172986</td>\n",
       "      <td>39374</td>\n",
       "      <td>21540</td>\n",
       "    </tr>\n",
       "    <tr>\n",
       "      <th>729</th>\n",
       "      <td>37211</td>\n",
       "      <td>26</td>\n",
       "      <td>8</td>\n",
       "      <td>2022-02-25</td>\n",
       "      <td>6210197</td>\n",
       "      <td>39400</td>\n",
       "      <td>21548</td>\n",
       "    </tr>\n",
       "    <tr>\n",
       "      <th>730</th>\n",
       "      <td>32669</td>\n",
       "      <td>17</td>\n",
       "      <td>6</td>\n",
       "      <td>2022-02-26</td>\n",
       "      <td>6242866</td>\n",
       "      <td>39417</td>\n",
       "      <td>21554</td>\n",
       "    </tr>\n",
       "    <tr>\n",
       "      <th>731</th>\n",
       "      <td>27180</td>\n",
       "      <td>12</td>\n",
       "      <td>3</td>\n",
       "      <td>2022-02-27</td>\n",
       "      <td>6270046</td>\n",
       "      <td>39429</td>\n",
       "      <td>21557</td>\n",
       "    </tr>\n",
       "  </tbody>\n",
       "</table>\n",
       "</div>"
      ],
      "text/plain": [
       "     PositiefGetest  Opgenomen  Overleden      Datum  \\\n",
       "727           41065         31         11 2022-02-23   \n",
       "728           40705         32         13 2022-02-24   \n",
       "729           37211         26          8 2022-02-25   \n",
       "730           32669         17          6 2022-02-26   \n",
       "731           27180         12          3 2022-02-27   \n",
       "\n",
       "     PositiefGetestCumulatief  OpgenomenCumulatief  OverledenCumulatief  \n",
       "727                   6132281                39342                21527  \n",
       "728                   6172986                39374                21540  \n",
       "729                   6210197                39400                21548  \n",
       "730                   6242866                39417                21554  \n",
       "731                   6270046                39429                21557  "
      ]
     },
     "execution_count": 7,
     "metadata": {},
     "output_type": "execute_result"
    }
   ],
   "source": [
    "df.tail()"
   ]
  },
  {
   "cell_type": "markdown",
   "metadata": {},
   "source": [
    "## Visualize cases per day"
   ]
  },
  {
   "cell_type": "code",
   "execution_count": 8,
   "metadata": {
    "scrolled": false
   },
   "outputs": [
    {
     "data": {
      "text/plain": [
       "<AxesSubplot:xlabel='Datum'>"
      ]
     },
     "execution_count": 8,
     "metadata": {},
     "output_type": "execute_result"
    },
    {
     "data": {
      "image/png": "[encoded data removed]",
      "text/plain": [
       "<Figure size 864x432 with 1 Axes>"
      ]
     },
     "metadata": {
      "needs_background": "light"
     },
     "output_type": "display_data"
    }
   ],
   "source": [
    "df.plot(\n",
    "    x=\"Datum\",\n",
    "    y=[\"PositiefGetest\", \"Opgenomen\", \"Overleden\"],\n",
    "    figsize=(12,6),\n",
    "    style=\".-\",\n",
    ")"
   ]
  },
  {
   "cell_type": "markdown",
   "metadata": {},
   "source": [
    "## Visualize cumulative per day"
   ]
  },
  {
   "cell_type": "code",
   "execution_count": 9,
   "metadata": {
    "scrolled": false
   },
   "outputs": [
    {
     "data": {
      "text/plain": [
       "<AxesSubplot:xlabel='Datum'>"
      ]
     },
     "execution_count": 9,
     "metadata": {},
     "output_type": "execute_result"
    },
    {
     "data": {
      "image/png": "[encoded data removed]",
      "text/plain": [
       "<Figure size 864x432 with 1 Axes>"
      ]
     },
     "metadata": {
      "needs_background": "light"
     },
     "output_type": "display_data"
    }
   ],
   "source": [
    "df.plot(\n",
    "    x=\"Datum\",\n",
    "    y=[\"PositiefGetestCumulatief\", \"OpgenomenCumulatief\", \"OverledenCumulatief\"],\n",
    "    figsize=(12,6),\n",
    "    style=\".-\",\n",
    ")"
   ]
  }
 ],
 "metadata": {
  "kernelspec": {
   "display_name": "Python 3 (ipykernel)",
   "language": "python",
   "name": "python3"
  },
  "language_info": {
   "codemirror_mode": {
    "name": "ipython",
    "version": 3
   },
   "file_extension": ".py",
   "mimetype": "text/x-python",
   "name": "python",
   "nbconvert_exporter": "python",
   "pygments_lexer": "ipython3",
   "version": "3.8.10"
  }
 },
 "nbformat": 4,
 "nbformat_minor": 4
}
