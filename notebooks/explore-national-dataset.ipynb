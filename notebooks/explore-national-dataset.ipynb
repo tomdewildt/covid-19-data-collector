{
 "cells": [
  {
   "cell_type": "markdown",
   "metadata": {},
   "source": [
    "# Explore National Dataset\n",
    "\n",
    "This notebook is used to explore the `rivm-covid-19-national.csv` dataset. It contains various graph that visualize the data in the dataset."
   ]
  },
  {
   "cell_type": "code",
   "execution_count": 1,
   "metadata": {
    "scrolled": false
   },
   "outputs": [],
   "source": [
    "import pandas as pd"
   ]
  },
  {
   "cell_type": "markdown",
   "metadata": {},
   "source": [
    "## Load dataset"
   ]
  },
  {
   "cell_type": "code",
   "execution_count": 2,
   "metadata": {
    "scrolled": false
   },
   "outputs": [],
   "source": [
    "df = pd.read_csv(\"../data/processed/rivm-covid-19-national.csv\")"
   ]
  },
  {
   "cell_type": "code",
   "execution_count": 3,
   "metadata": {
    "scrolled": false
   },
   "outputs": [],
   "source": [
    "df[\"PositiefGetest\"] = df[\"PositiefGetest\"].astype(int)\n",
    "df[\"Opgenomen\"] = df[\"Opgenomen\"].astype(int)\n",
    "df[\"Overleden\"] = df[\"Overleden\"].astype(int)\n",
    "df[\"Datum\"] = pd.to_datetime(df[\"Datum\"])"
   ]
  },
  {
   "cell_type": "code",
   "execution_count": 4,
   "metadata": {
    "scrolled": false
   },
   "outputs": [],
   "source": [
    "df[\"PositiefGetestCumulatief\"] = df[\"PositiefGetest\"].cumsum(axis=0)\n",
    "df[\"OpgenomenCumulatief\"] = df[\"Opgenomen\"].cumsum(axis=0)\n",
    "df[\"OverledenCumulatief\"] = df[\"Overleden\"].cumsum(axis=0)"
   ]
  },
  {
   "cell_type": "markdown",
   "metadata": {},
   "source": [
    "## Inspect dataset"
   ]
  },
  {
   "cell_type": "code",
   "execution_count": 5,
   "metadata": {
    "scrolled": false
   },
   "outputs": [
    {
     "name": "stdout",
     "output_type": "stream",
     "text": [
      "<class 'pandas.core.frame.DataFrame'>\n",
      "RangeIndex: 341 entries, 0 to 340\n",
      "Data columns (total 7 columns):\n",
      " #   Column                    Non-Null Count  Dtype         \n",
      "---  ------                    --------------  -----         \n",
      " 0   PositiefGetest            341 non-null    int64         \n",
      " 1   Opgenomen                 341 non-null    int64         \n",
      " 2   Overleden                 341 non-null    int64         \n",
      " 3   Datum                     341 non-null    datetime64[ns]\n",
      " 4   PositiefGetestCumulatief  341 non-null    int64         \n",
      " 5   OpgenomenCumulatief       341 non-null    int64         \n",
      " 6   OverledenCumulatief       341 non-null    int64         \n",
      "dtypes: datetime64[ns](1), int64(6)\n",
      "memory usage: 18.8 KB\n"
     ]
    }
   ],
   "source": [
    "df.info()"
   ]
  },
  {
   "cell_type": "code",
   "execution_count": 6,
   "metadata": {
    "scrolled": false
   },
   "outputs": [
    {
     "data": {
      "text/html": [
       "<div>\n",
       "<style scoped>\n",
       "    .dataframe tbody tr th:only-of-type {\n",
       "        vertical-align: middle;\n",
       "    }\n",
       "\n",
       "    .dataframe tbody tr th {\n",
       "        vertical-align: top;\n",
       "    }\n",
       "\n",
       "    .dataframe thead th {\n",
       "        text-align: right;\n",
       "    }\n",
       "</style>\n",
       "<table border=\"1\" class=\"dataframe\">\n",
       "  <thead>\n",
       "    <tr style=\"text-align: right;\">\n",
       "      <th></th>\n",
       "      <th>PositiefGetest</th>\n",
       "      <th>Opgenomen</th>\n",
       "      <th>Overleden</th>\n",
       "      <th>Datum</th>\n",
       "      <th>PositiefGetestCumulatief</th>\n",
       "      <th>OpgenomenCumulatief</th>\n",
       "      <th>OverledenCumulatief</th>\n",
       "    </tr>\n",
       "  </thead>\n",
       "  <tbody>\n",
       "    <tr>\n",
       "      <th>0</th>\n",
       "      <td>0</td>\n",
       "      <td>1</td>\n",
       "      <td>0</td>\n",
       "      <td>2020-02-27</td>\n",
       "      <td>0</td>\n",
       "      <td>1</td>\n",
       "      <td>0</td>\n",
       "    </tr>\n",
       "    <tr>\n",
       "      <th>1</th>\n",
       "      <td>1</td>\n",
       "      <td>0</td>\n",
       "      <td>0</td>\n",
       "      <td>2020-02-28</td>\n",
       "      <td>1</td>\n",
       "      <td>1</td>\n",
       "      <td>0</td>\n",
       "    </tr>\n",
       "    <tr>\n",
       "      <th>2</th>\n",
       "      <td>1</td>\n",
       "      <td>1</td>\n",
       "      <td>0</td>\n",
       "      <td>2020-02-29</td>\n",
       "      <td>2</td>\n",
       "      <td>2</td>\n",
       "      <td>0</td>\n",
       "    </tr>\n",
       "    <tr>\n",
       "      <th>3</th>\n",
       "      <td>3</td>\n",
       "      <td>0</td>\n",
       "      <td>0</td>\n",
       "      <td>2020-03-01</td>\n",
       "      <td>5</td>\n",
       "      <td>2</td>\n",
       "      <td>0</td>\n",
       "    </tr>\n",
       "    <tr>\n",
       "      <th>4</th>\n",
       "      <td>5</td>\n",
       "      <td>0</td>\n",
       "      <td>0</td>\n",
       "      <td>2020-03-02</td>\n",
       "      <td>10</td>\n",
       "      <td>2</td>\n",
       "      <td>0</td>\n",
       "    </tr>\n",
       "  </tbody>\n",
       "</table>\n",
       "</div>"
      ],
      "text/plain": [
       "   PositiefGetest  Opgenomen  Overleden      Datum  PositiefGetestCumulatief  \\\n",
       "0               0          1          0 2020-02-27                         0   \n",
       "1               1          0          0 2020-02-28                         1   \n",
       "2               1          1          0 2020-02-29                         2   \n",
       "3               3          0          0 2020-03-01                         5   \n",
       "4               5          0          0 2020-03-02                        10   \n",
       "\n",
       "   OpgenomenCumulatief  OverledenCumulatief  \n",
       "0                    1                    0  \n",
       "1                    1                    0  \n",
       "2                    2                    0  \n",
       "3                    2                    0  \n",
       "4                    2                    0  "
      ]
     },
     "execution_count": 6,
     "metadata": {},
     "output_type": "execute_result"
    }
   ],
   "source": [
    "df.head()"
   ]
  },
  {
   "cell_type": "code",
   "execution_count": 7,
   "metadata": {
    "scrolled": false
   },
   "outputs": [
    {
     "data": {
      "text/html": [
       "<div>\n",
       "<style scoped>\n",
       "    .dataframe tbody tr th:only-of-type {\n",
       "        vertical-align: middle;\n",
       "    }\n",
       "\n",
       "    .dataframe tbody tr th {\n",
       "        vertical-align: top;\n",
       "    }\n",
       "\n",
       "    .dataframe thead th {\n",
       "        text-align: right;\n",
       "    }\n",
       "</style>\n",
       "<table border=\"1\" class=\"dataframe\">\n",
       "  <thead>\n",
       "    <tr style=\"text-align: right;\">\n",
       "      <th></th>\n",
       "      <th>PositiefGetest</th>\n",
       "      <th>Opgenomen</th>\n",
       "      <th>Overleden</th>\n",
       "      <th>Datum</th>\n",
       "      <th>PositiefGetestCumulatief</th>\n",
       "      <th>OpgenomenCumulatief</th>\n",
       "      <th>OverledenCumulatief</th>\n",
       "    </tr>\n",
       "  </thead>\n",
       "  <tbody>\n",
       "    <tr>\n",
       "      <th>336</th>\n",
       "      <td>4688</td>\n",
       "      <td>65</td>\n",
       "      <td>84</td>\n",
       "      <td>2021-01-28</td>\n",
       "      <td>962602</td>\n",
       "      <td>22147</td>\n",
       "      <td>13782</td>\n",
       "    </tr>\n",
       "    <tr>\n",
       "      <th>337</th>\n",
       "      <td>4399</td>\n",
       "      <td>62</td>\n",
       "      <td>56</td>\n",
       "      <td>2021-01-29</td>\n",
       "      <td>967001</td>\n",
       "      <td>22209</td>\n",
       "      <td>13838</td>\n",
       "    </tr>\n",
       "    <tr>\n",
       "      <th>338</th>\n",
       "      <td>4178</td>\n",
       "      <td>81</td>\n",
       "      <td>88</td>\n",
       "      <td>2021-01-30</td>\n",
       "      <td>971179</td>\n",
       "      <td>22290</td>\n",
       "      <td>13926</td>\n",
       "    </tr>\n",
       "    <tr>\n",
       "      <th>339</th>\n",
       "      <td>3684</td>\n",
       "      <td>58</td>\n",
       "      <td>40</td>\n",
       "      <td>2021-01-31</td>\n",
       "      <td>974863</td>\n",
       "      <td>22348</td>\n",
       "      <td>13966</td>\n",
       "    </tr>\n",
       "    <tr>\n",
       "      <th>340</th>\n",
       "      <td>3235</td>\n",
       "      <td>39</td>\n",
       "      <td>27</td>\n",
       "      <td>2021-02-01</td>\n",
       "      <td>978098</td>\n",
       "      <td>22387</td>\n",
       "      <td>13993</td>\n",
       "    </tr>\n",
       "  </tbody>\n",
       "</table>\n",
       "</div>"
      ],
      "text/plain": [
       "     PositiefGetest  Opgenomen  Overleden      Datum  \\\n",
       "336            4688         65         84 2021-01-28   \n",
       "337            4399         62         56 2021-01-29   \n",
       "338            4178         81         88 2021-01-30   \n",
       "339            3684         58         40 2021-01-31   \n",
       "340            3235         39         27 2021-02-01   \n",
       "\n",
       "     PositiefGetestCumulatief  OpgenomenCumulatief  OverledenCumulatief  \n",
       "336                    962602                22147                13782  \n",
       "337                    967001                22209                13838  \n",
       "338                    971179                22290                13926  \n",
       "339                    974863                22348                13966  \n",
       "340                    978098                22387                13993  "
      ]
     },
     "execution_count": 7,
     "metadata": {},
     "output_type": "execute_result"
    }
   ],
   "source": [
    "df.tail()"
   ]
  },
  {
   "cell_type": "markdown",
   "metadata": {},
   "source": [
    "## Visualize cases per day"
   ]
  },
  {
   "cell_type": "code",
   "execution_count": 8,
   "metadata": {
    "scrolled": false
   },
   "outputs": [
    {
     "data": {
      "text/plain": [
       "<AxesSubplot:xlabel='Datum'>"
      ]
     },
     "execution_count": 8,
     "metadata": {},
     "output_type": "execute_result"
    },
    {
     "data": {
      "image/png": "[encoded data removed]",
      "text/plain": [
       "<Figure size 864x432 with 1 Axes>"
      ]
     },
     "metadata": {
      "needs_background": "light"
     },
     "output_type": "display_data"
    }
   ],
   "source": [
    "df.plot(\n",
    "    x=\"Datum\",\n",
    "    y=[\"PositiefGetest\", \"Opgenomen\", \"Overleden\"],\n",
    "    figsize=(12,6),\n",
    "    style=\".-\",\n",
    ")"
   ]
  },
  {
   "cell_type": "markdown",
   "metadata": {},
   "source": [
    "## Visualize cumulative per day"
   ]
  },
  {
   "cell_type": "code",
   "execution_count": 9,
   "metadata": {
    "scrolled": false
   },
   "outputs": [
    {
     "data": {
      "text/plain": [
       "<AxesSubplot:xlabel='Datum'>"
      ]
     },
     "execution_count": 9,
     "metadata": {},
     "output_type": "execute_result"
    },
    {
     "data": {
      "image/png": "[encoded data removed]",
      "text/plain": [
       "<Figure size 864x432 with 1 Axes>"
      ]
     },
     "metadata": {
      "needs_background": "light"
     },
     "output_type": "display_data"
    }
   ],
   "source": [
    "df.plot(\n",
    "    x=\"Datum\",\n",
    "    y=[\"PositiefGetestCumulatief\", \"OpgenomenCumulatief\", \"OverledenCumulatief\"],\n",
    "    figsize=(12,6),\n",
    "    style=\".-\",\n",
    ")"
   ]
  }
 ],
 "metadata": {
  "kernelspec": {
   "display_name": "Python 3",
   "language": "python",
   "name": "python3"
  },
  "language_info": {
   "codemirror_mode": {
    "name": "ipython",
    "version": 3
   },
   "file_extension": ".py",
   "mimetype": "text/x-python",
   "name": "python",
   "nbconvert_exporter": "python",
   "pygments_lexer": "ipython3",
   "version": "3.8.5"
  }
 },
 "nbformat": 4,
 "nbformat_minor": 4
}
